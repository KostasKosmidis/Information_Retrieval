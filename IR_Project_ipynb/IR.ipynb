{
 "cells": [
  {
   "cell_type": "code",
   "execution_count": null,
   "metadata": {},
   "outputs": [],
   "source": [
    "import nltk\n",
    "nltk.download('punkt')\n",
    "nltk.download('stopwords')\n",
    "from nltk.stem import SnowballStemmer\n",
    "stemmer = SnowballStemmer(\"english\")\n",
    "\n",
    "from web_crawler import crawl_articles\n",
    "from text_preprocessing import preprocess_dataset\n",
    "from inverted_index import create_inverted_index\n",
    "from ranking import calculate_tfidf, rank_documents, calculate_vsm, rank_vsm, calculate_bm25, rank_bm25\n",
    "from evaluation import evaluate_retrieval, calculate_map\n"
   ]
  },
  {
   "cell_type": "code",
   "execution_count": null,
   "metadata": {
    "vscode": {
     "languageId": "plaintext"
    }
   },
   "outputs": [],
   "source": [
    "[nltk_data] Downloading package punkt to C:\\nltk_data...\n",
    "[nltk_data]   Package punkt is already up-to-date!\n",
    "[nltk_data] Downloading package stopwords to C:\\nltk_data...\n",
    "[nltk_data]   Package stopwords is already up-to-date!\n",
    "[nltk_data] Downloading package punkt to C:\\nltk_data...\n",
    "[nltk_data]   Package punkt is already up-to-date!\n",
    "[nltk_data] Downloading package stopwords to C:\\nltk_data...\n",
    "[nltk_data]   Package stopwords is already up-to-date!"
   ]
  },
  {
   "cell_type": "code",
   "execution_count": null,
   "metadata": {},
   "outputs": [],
   "source": [
    "dataset = crawl_articles() #Κλήση της συνάρτησης για να μας φέρει τα άρθρα"
   ]
  },
  {
   "cell_type": "code",
   "execution_count": null,
   "metadata": {
    "vscode": {
     "languageId": "plaintext"
    }
   },
   "outputs": [],
   "source": [
    "Συλλογή άρθρου: https://en.wikipedia.org/wiki/Rock_music\n",
    "Συλλογή άρθρου: https://en.wikipedia.org/wiki/Pop_music\n",
    "Συλλογή άρθρου: https://en.wikipedia.org/wiki/Heavy_metal_music\n",
    "Συλλογή άρθρου: https://en.wikipedia.org/wiki/Metallica\n",
    "Συλλογή άρθρου: https://en.wikipedia.org/wiki/Linkin_Park\n",
    "Συλλογή άρθρου: https://en.wikipedia.org/wiki/Avenged_Sevenfold\n",
    "Συλλογή άρθρου: https://en.wikipedia.org/wiki/Jazz\n",
    "Συλλογή άρθρου: https://en.wikipedia.org/wiki/Classical_music\n",
    "Συλλογή άρθρου: https://en.wikipedia.org/wiki/Guitar\n",
    "Συλλογή άρθρου: https://en.wikipedia.org/wiki/Violin\n",
    "Συλλογή άρθρου: https://en.wikipedia.org/wiki/Clarinet"
   ]
  },
  {
   "cell_type": "code",
   "execution_count": null,
   "metadata": {},
   "outputs": [],
   "source": [
    "dataset = preprocess_dataset(dataset) #Κλήση συνάρτησης για να προεπεξεργαστεί το κέιμενο\n",
    "inverted_index = create_inverted_index(dataset) #Κλήση συνάρτησης για να εδημιουργήσει το ευρετήριο"
   ]
  },
  {
   "cell_type": "code",
   "execution_count": null,
   "metadata": {},
   "outputs": [],
   "source": [
    "while True:\n",
    "        print(\"\\nΕισάγετε τη λέξη κλειδί σας ή γράψτε 'exit' για τερματισμό:\")\n",
    "        query = input(\"Κλειδί: \").lower()"
   ]
  },
  {
   "cell_type": "code",
   "execution_count": null,
   "metadata": {
    "vscode": {
     "languageId": "plaintext"
    }
   },
   "outputs": [],
   "source": [
    "Εισάγετε τη λέξη κλειδί σας ή γράψτε 'exit' για τερματισμό:\n",
    "Κλειδί: "
   ]
  },
  {
   "cell_type": "code",
   "execution_count": null,
   "metadata": {},
   "outputs": [],
   "source": [
    "if query == 'exit':\n",
    "            print(\"Έξοδος από το πρόγραμμα.\")\n",
    "            break\n",
    "\n",
    "        print(\"\\nΕπιλέξτε αλγόριθμο κατάταξης:\")\n",
    "        print(\"1. TF-IDF\")\n",
    "        print(\"2. Vector Space Model (VSM)\")\n",
    "        print(\"3. Okapi BM25\")\n",
    "        print(\"Γράψτε 'exit' για έξοδο.\")\n",
    "        algorithm_choice = input(\"Επιλογή (1, 2, 3): \").strip()"
   ]
  },
  {
   "cell_type": "code",
   "execution_count": null,
   "metadata": {
    "vscode": {
     "languageId": "plaintext"
    }
   },
   "outputs": [],
   "source": [
    "Επιλέξτε αλγόριθμο:\n",
    "1. TF-IDF\n",
    "2. Vector Space Model (VSM)\n",
    "3. Okapi BM25\n",
    "Γράψτε 'exit' για τερματισμό.\n",
    "Επιλογή (1, 2, 3):"
   ]
  },
  {
   "cell_type": "code",
   "execution_count": null,
   "metadata": {},
   "outputs": [],
   "source": [
    "if algorithm_choice.lower() == 'exit':\n",
    "            print(\"Έξοδος από το πρόγραμμα.\")\n",
    "            break\n",
    "\n",
    "        relevant_docs = [[0, 2]]  # Μόνο ένα ερώτημα\n",
    "        retrieved_docs = []  # Λίστα για αποθήκευση των επιστρεφόμενων εγγράφων\n",
    "\n",
    "        if algorithm_choice == \"1\":\n",
    "            print(\"\\nΧρησιμοποιώντας αλγόριθμο TF-IDF...\")\n",
    "            tfidf = calculate_tfidf(dataset, inverted_index)\n",
    "            ranked_docs = rank_documents(query, tfidf, dataset)\n",
    "        elif algorithm_choice == \"2\":\n",
    "            print(\"\\nΧρησιμοποιώντας Vector Space Model (VSM)...\")\n",
    "            tfidf = calculate_tfidf(dataset, inverted_index)\n",
    "            doc_vectors = calculate_vsm(dataset, inverted_index, tfidf)\n",
    "            ranked_docs = rank_vsm(query, doc_vectors, tfidf)\n",
    "        elif algorithm_choice == \"3\":\n",
    "            print(\"\\nΧρησιμοποιώντας Okapi BM25...\")\n",
    "            bm25_scores = calculate_bm25(dataset, inverted_index)\n",
    "            ranked_docs = rank_bm25(query, bm25_scores)\n",
    "        else:\n",
    "            print(\"Μη έγκυρη επιλογή αλγορίθμου. Δοκιμάστε ξανά.\")\n",
    "            continue\n",
    "\n",
    "        print(\"\\nΑποτελέσματα αναζήτησης:\")\n",
    "        if not ranked_docs:\n",
    "            print(\"Δεν βρέθηκαν αποτελέσματα.\")\n",
    "        for doc in ranked_docs:\n",
    "            try:\n",
    "                doc_id = int(doc.get('doc_id'))\n",
    "                title = dataset[doc_id].get('title', 'Άγνωστος τίτλος')\n",
    "                retrieved_docs.append(doc_id)\n",
    "                print(f\"{title} (Βαθμολογία: {doc['score']:.4f})\")\n",
    "            except (ValueError, KeyError) as e:\n",
    "                print(f\"Σφάλμα με το doc_id: {doc.get('doc_id')} - {e}\")\n",
    "\n",
    "        # Εισαγωγή στο σύστημα αξιολόγησης\n",
    "        evaluation_metrics = evaluate_retrieval(relevant_docs[0], retrieved_docs)\n",
    "        print(\"\\nΑξιολόγηση Αποτελεσμάτων:\")\n",
    "        print(f\"Precision: {evaluation_metrics['precision']:.4f}\")\n",
    "        print(f\"Recall: {evaluation_metrics['recall']:.4f}\")\n",
    "        print(f\"F1 Score: {evaluation_metrics['f1_score']:.4f}\")\n",
    "\n",
    "        # Υπολογισμός MAP\n",
    "        map_score = calculate_map(relevant_docs, [retrieved_docs])\n",
    "        print(f\"\\nMean Average Precision (MAP): {map_score:.4f}\")\n",
    "\n",
    "if __name__ == \"__main__\":\n",
    "    main()\n"
   ]
  },
  {
   "cell_type": "code",
   "execution_count": null,
   "metadata": {
    "vscode": {
     "languageId": "plaintext"
    }
   },
   "outputs": [],
   "source": [
    "Χρησιμοποιώντας αλγόριθμο TF-IDF... (τυχαίο παράδειγμα, σε ξεχωριστό αρχείο θα υπάρχουν περισσότερα)\n",
    "\n",
    "Αποτελέσματα αναζήτησης:\n",
    "Rock music (Βαθμολογία: 391.3241)\n",
    "Heavy metal music (Βαθμολογία: 96.7440)\n",
    "Linkin Park (Βαθμολογία: 63.0467)\n",
    "Metallica (Βαθμολογία: 42.3934)\n",
    "Avenged Sevenfold (Βαθμολογία: 18.4792)\n",
    "Jazz (Βαθμολογία: 18.4792)\n",
    "Pop music (Βαθμολογία: 13.0441)\n",
    "Guitar (Βαθμολογία: 9.7831)\n",
    "Violin (Βαθμολογία: 5.4351)\n",
    "Clarinet (Βαθμολογία: 1.0870)\n",
    "\n",
    "Αξιολόγηση Αποτελεσμάτων:\n",
    "Precision: 0.2000\n",
    "Recall: 1.0000\n",
    "F1 Score: 0.3333\n",
    "\n",
    "Mean Average Precision (MAP): 1.0000\n",
    "\n",
    "Εισάγετε τη λέξη κλειδί σας ή γράψτε 'exit' για τερματισμό:\n",
    "Κλειδί: \n"
   ]
  }
 ],
 "metadata": {
  "language_info": {
   "name": "python"
  }
 },
 "nbformat": 4,
 "nbformat_minor": 2
}
