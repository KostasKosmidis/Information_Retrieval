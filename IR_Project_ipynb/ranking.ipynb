{
 "cells": [
  {
   "cell_type": "markdown",
   "metadata": {},
   "source": [
    "# Ranking"
   ]
  },
  {
   "cell_type": "code",
   "execution_count": null,
   "metadata": {},
   "outputs": [],
   "source": [
    "import numpy as np\n",
    "from collections import Counter\n",
    "import math"
   ]
  },
  {
   "cell_type": "markdown",
   "metadata": {},
   "source": [
    "\"\"\"\n",
    "    Υπολογισμός TF-IDF για το σύνολο δεδομένων.\n",
    "\n",
    "    :param dataset: Το σύνολο δεδομένων (λίστα εγγράφων)\n",
    "    :param inverted_index: Ο αντεστραμμένος πίνακας ευρετηρίου\n",
    "    :return: Λεξικό με τα TF-IDF scores για κάθε όρο και έγγραφο\n",
    "    \"\"\""
   ]
  },
  {
   "cell_type": "code",
   "execution_count": null,
   "metadata": {},
   "outputs": [],
   "source": [
    "def calculate_tfidf(dataset, inverted_index):\n",
    "    tfidf = {}\n",
    "    N = len(dataset)\n",
    "    for term, doc_ids in inverted_index.items():\n",
    "        df = len(set(doc_ids))\n",
    "        idf = math.log((N + 1) / (df + 1)) + 1  # Προσαρμοσμένος IDF\n",
    "        tfidf[term] = {}\n",
    "        for doc_id in set(doc_ids):\n",
    "            tf = dataset[doc_id]['content'].split().count(term)\n",
    "            tfidf[term][doc_id] = tf * idf\n",
    "    return tfidf\n"
   ]
  },
  {
   "cell_type": "markdown",
   "metadata": {},
   "source": [
    "\"\"\"\n",
    "    Υπολογισμός του διανύσματος του ερωτήματος με βάση το TF-IDF.\n",
    "\n",
    "    :param query: Το ερώτημα του χρήστη (string)\n",
    "    :param tfidf: Το λεξικό TF-IDF\n",
    "    :return: Διάνυσμα ερωτήματος (numpy array)\n",
    "    \"\"\""
   ]
  },
  {
   "cell_type": "code",
   "execution_count": null,
   "metadata": {},
   "outputs": [],
   "source": [
    "def calculate_query_vector(query, tfidf):\n",
    "    query_terms = query.split()\n",
    "    vector = np.zeros(len(tfidf))\n",
    "\n",
    "    for i, term in enumerate(tfidf):\n",
    "        if term in query_terms:\n",
    "            vector[i] = 1  # Εναλλακτικά, μπορεί να υπολογιστεί tf-idf του όρου για μεγαλύτερη ακρίβεια\n",
    "\n",
    "    return vector\n"
   ]
  },
  {
   "cell_type": "markdown",
   "metadata": {},
   "source": [
    "\"\"\"\n",
    "    Υπολογισμός των διανυσμάτων VSM για όλα τα έγγραφα.\n",
    "\n",
    "    :param dataset: Το σύνολο δεδομένων\n",
    "    :param inverted_index: Ο αντεστραμμένος πίνακας ευρετηρίου\n",
    "    :param tfidf: Το λεξικό TF-IDF\n",
    "    :return: Λεξικό με τα διανύσματα εγγράφων\n",
    "    \"\"\""
   ]
  },
  {
   "cell_type": "code",
   "execution_count": null,
   "metadata": {},
   "outputs": [],
   "source": [
    "def calculate_vsm(dataset, inverted_index, tfidf):\n",
    "    doc_vectors = {}\n",
    "    for doc_id in range(len(dataset)):\n",
    "        vector = np.zeros(len(tfidf))\n",
    "        for i, term in enumerate(tfidf):\n",
    "            if doc_id in tfidf[term]:\n",
    "                vector[i] = tfidf[term][doc_id]\n",
    "        doc_vectors[doc_id] = vector\n",
    "    return doc_vectors"
   ]
  },
  {
   "cell_type": "markdown",
   "metadata": {},
   "source": [
    "\"\"\"\n",
    "    Υπολογισμός κατάταξης εγγράφων με βάση το Vector Space Model.\n",
    "\n",
    "    :param query: Το ερώτημα του χρήστη\n",
    "    :param doc_vectors: Τα διανύσματα εγγράφων\n",
    "    :param tfidf: Το λεξικό TF-IDF\n",
    "    :return: Λίστα κατάταξης εγγράφων\n",
    "    \"\"\""
   ]
  },
  {
   "cell_type": "code",
   "execution_count": null,
   "metadata": {},
   "outputs": [],
   "source": [
    "def rank_vsm(query, doc_vectors, tfidf):\n",
    "    query_vector = calculate_query_vector(query, tfidf)\n",
    "    ranked_docs = []\n",
    "\n",
    "    for doc_id, doc_vector in doc_vectors.items():\n",
    "        dot_product = np.dot(query_vector, doc_vector)\n",
    "        doc_length = np.linalg.norm(doc_vector)\n",
    "        query_length = np.linalg.norm(query_vector)\n",
    "\n",
    "        score = dot_product / (doc_length * query_length) if doc_length and query_length else 0\n",
    "        ranked_docs.append({'doc_id': doc_id, 'score': score})\n",
    "\n",
    "    return sorted(ranked_docs, key=lambda x: x['score'], reverse=True)\n"
   ]
  },
  {
   "cell_type": "markdown",
   "metadata": {},
   "source": [
    "\"\"\"\n",
    "    Κατάταξη εγγράφων με χρήση απλού TF-IDF score.\n",
    "\n",
    "    :param query: Το ερώτημα του χρήστη\n",
    "    :param tfidf: Το λεξικό TF-IDF\n",
    "    :param dataset: Το σύνολο δεδομένων\n",
    "    :return: Λίστα κατάταξης εγγράφων\n",
    "    \"\"\""
   ]
  },
  {
   "cell_type": "code",
   "execution_count": null,
   "metadata": {},
   "outputs": [],
   "source": [
    "def rank_documents(query, tfidf, dataset):\n",
    "    query_terms = query.split()\n",
    "    scores = Counter()\n",
    "\n",
    "    for term in query_terms:\n",
    "        if term in tfidf:\n",
    "            for doc_id, score in tfidf[term].items():\n",
    "                scores[doc_id] += score\n",
    "\n",
    "    ranked_docs = [{\"doc_id\": doc_id, \"score\": score, \"title\": dataset[doc_id]['title']} for doc_id, score in scores.items()]\n",
    "    return sorted(ranked_docs, key=lambda x: x['score'], reverse=True)\n"
   ]
  },
  {
   "cell_type": "markdown",
   "metadata": {},
   "source": [
    " \"\"\"\n",
    "    Υπολογισμός BM25 για τα έγγραφα του dataset.\n",
    "\n",
    "    :param dataset: Το σύνολο δεδομένων\n",
    "    :param inverted_index: Ο αντεστραμμένος πίνακας ευρετηρίου\n",
    "    :param k1: Υπερπαράμετρος ελέγχου ευαισθησίας της συχνότητας (default: 1.5)\n",
    "    :param b: Υπερπαράμετρος ελέγχου μήκους εγγράφου (default: 0.75)\n",
    "    :return: Λεξικό BM25 για κάθε όρο και έγγραφο\n",
    "    \"\"\""
   ]
  },
  {
   "cell_type": "code",
   "execution_count": null,
   "metadata": {},
   "outputs": [],
   "source": [
    "def calculate_bm25(dataset, inverted_index, k1=1.5, b=0.75):\n",
    "    N = len(dataset)\n",
    "    avg_doc_length = sum(len(doc['content'].split()) for doc in dataset) / N\n",
    "    bm25 = {}\n",
    "\n",
    "    for term, doc_ids in inverted_index.items():\n",
    "        df = len(doc_ids)\n",
    "        idf = math.log((N - df + 0.5) / (df + 0.5) + 1)\n",
    "        bm25[term] = {}\n",
    "\n",
    "        for doc_id in set(doc_ids):\n",
    "            doc_length = len(dataset[doc_id]['content'].split())\n",
    "            tf = dataset[doc_id]['content'].split().count(term)\n",
    "            numerator = tf * (k1 + 1)\n",
    "            denominator = tf + k1 * (1 - b + b * (doc_length / avg_doc_length))\n",
    "            bm25[term][doc_id] = idf * (numerator / denominator)\n",
    "\n",
    "    return bm25"
   ]
  },
  {
   "cell_type": "markdown",
   "metadata": {},
   "source": [
    "\"\"\"\n",
    "    Κατάταξη εγγράφων με βάση το BM25.\n",
    "\n",
    "    :param query: Το ερώτημα του χρήστη\n",
    "    :param bm25: Το λεξικό BM25\n",
    "    :return: Λίστα κατάταξης εγγράφων\n",
    "    \"\"\""
   ]
  },
  {
   "cell_type": "code",
   "execution_count": null,
   "metadata": {},
   "outputs": [],
   "source": [
    "def rank_bm25(query, bm25):\n",
    "    query_terms = query.split()\n",
    "    scores = Counter()\n",
    "\n",
    "    for term in query_terms:\n",
    "        if term in bm25:\n",
    "            for doc_id, score in bm25[term].items():\n",
    "                scores[doc_id] += score\n",
    "\n",
    "    ranked_docs = [{\"doc_id\": doc_id, \"score\": score} for doc_id, score in scores.items()]\n",
    "    return sorted(ranked_docs, key=lambda x: x['score'], reverse=True)\n"
   ]
  }
 ],
 "metadata": {
  "language_info": {
   "name": "python"
  }
 },
 "nbformat": 4,
 "nbformat_minor": 2
}
