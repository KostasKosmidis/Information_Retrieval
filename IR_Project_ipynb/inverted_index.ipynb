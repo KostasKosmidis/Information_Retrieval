{
 "cells": [
  {
   "cell_type": "markdown",
   "metadata": {},
   "source": [
    "# Inverted_Index"
   ]
  },
  {
   "cell_type": "code",
   "execution_count": null,
   "metadata": {},
   "outputs": [],
   "source": [
    "import json\n",
    "from collections import defaultdict"
   ]
  },
  {
   "cell_type": "markdown",
   "metadata": {},
   "source": [
    "\"\"\"\n",
    "\n",
    "    Δημιουργεί το αντεστραμμένο ευρετήριο από το σύνολο των εγγράφων.\n",
    "    :param dataset: Λίστα με τα έγγραφα, όπου κάθε έγγραφο είναι λεξικό με κλειδί 'content'.\n",
    "    :return: Το αντεστραμμένο ευρετήριο, το οποίο αντιστοιχεί κάθε λέξη σε μια λίστα από έγγραφα (IDs).\n",
    "    \"\"\""
   ]
  },
  {
   "cell_type": "code",
   "execution_count": null,
   "metadata": {},
   "outputs": [],
   "source": [
    "def create_inverted_index(dataset):\n",
    "    inverted_index = defaultdict(set)  # Χρησιμοποιούμε set για αποφυγή επαναλήψεων\n",
    "\n",
    "    # Επεξεργασία κάθε εγγράφου στο dataset\n",
    "    for doc_id, doc in enumerate(dataset):\n",
    "        # Διαχωρισμός του περιεχομένου του εγγράφου σε λέξεις\n",
    "        for word in doc['content'].split():\n",
    "            inverted_index[word].add(doc_id)  # Προσθήκη του document ID στο set της λέξης\n",
    "\n",
    "    # Μετατροπή των set σε λίστες και επιστροφή του ευρετηρίου\n",
    "    return {key: list(value) for key, value in inverted_index.items()}"
   ]
  },
  {
   "cell_type": "markdown",
   "metadata": {},
   "source": [
    "\"\"\"\n",
    "\n",
    "    Αποθηκεύει το αντεστραμμένο ευρετήριο σε αρχείο JSON.\n",
    "    :param index: Το αντεστραμμένο ευρετήριο που δημιουργήθηκε.\n",
    "    :param file_path: Η διαδρομή αποθήκευσης του αρχείου (προεπιλογή: 'inverted_index.json').\n",
    "    \"\"\""
   ]
  },
  {
   "cell_type": "code",
   "execution_count": null,
   "metadata": {},
   "outputs": [],
   "source": [
    "def save_inverted_index(index, file_path='inverted_index.json'):\n",
    "    # Αποθήκευση του ευρετηρίου σε αρχείο JSON\n",
    "    with open(file_path, 'w', encoding='utf-8') as f:\n",
    "        json.dump(index, f, ensure_ascii=False, indent=4)\n",
    "    print(f\"Ευρετήριο αποθηκεύτηκε στο {file_path}\")"
   ]
  }
 ],
 "metadata": {
  "language_info": {
   "name": "python"
  }
 },
 "nbformat": 4,
 "nbformat_minor": 2
}
