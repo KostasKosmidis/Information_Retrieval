{
 "cells": [
  {
   "cell_type": "markdown",
   "metadata": {},
   "source": [
    "# Text_preprocessing"
   ]
  },
  {
   "cell_type": "code",
   "execution_count": null,
   "metadata": {},
   "outputs": [],
   "source": [
    "import re\n",
    "from nltk.tokenize import word_tokenize\n",
    "from nltk.corpus import stopwords\n",
    "from nltk.stem import PorterStemmer\n",
    "import nltk"
   ]
  },
  {
   "cell_type": "markdown",
   "metadata": {},
   "source": [
    "# Λήψη απαραίτητων πόρων από το NLTK\n"
   ]
  },
  {
   "cell_type": "code",
   "execution_count": null,
   "metadata": {},
   "outputs": [],
   "source": [
    "nltk.download('punkt')\n",
    "nltk.download('stopwords')"
   ]
  },
  {
   "cell_type": "markdown",
   "metadata": {},
   "source": [
    "\"\"\"\n",
    "    Εκτελεί προεπεξεργασία στο δοσμένο κείμενο, αφαιρώντας μη αλφαβητικούς χαρακτήρες,\n",
    "    διαχωρίζοντας σε λέξεις, μετατρέποντας σε πεζά, αφαιρώντας stopwords, και εφαρμόζοντας stemming.\n",
    "\n",
    "    :param text: Το εισαγόμενο κείμενο (string)\n",
    "    :return: Επεξεργασμένο κείμενο (string)\n",
    "\"\"\""
   ]
  },
  {
   "cell_type": "code",
   "execution_count": null,
   "metadata": {},
   "outputs": [],
   "source": [
    "def preprocess_text(text):\n",
    "    # Αφαίρεση μη αλφαβητικών χαρακτήρων\n",
    "    text = re.sub(r'[^a-zA-Z\\s]', '', text)\n",
    "    \n",
    "    # Διαχωρισμός του κειμένου σε λέξεις και μετατροπή σε πεζά\n",
    "    tokens = word_tokenize(text.lower())\n",
    "    \n",
    "    # Αφαίρεση των stopwords\n",
    "    stop_words = set(stopwords.words('english'))\n",
    "    tokens = [word for word in tokens if word not in stop_words]\n",
    "    \n",
    "    # Εφαρμογή stemming\n",
    "    stemmer = PorterStemmer()\n",
    "    tokens = [stemmer.stem(word) for word in tokens]\n",
    "    \n",
    "    return \" \".join(tokens)\n"
   ]
  },
  {
   "cell_type": "markdown",
   "metadata": {},
   "source": [
    "\"\"\"\n",
    "    Εκτελεί προεπεξεργασία στο περιεχόμενο κάθε εγγράφου του dataset.\n",
    "\n",
    "    :param dataset: Λίστα από dictionaries με το κλειδί 'content' να περιέχει το κείμενο\n",
    "    :return: Dataset με επεξεργασμένο περιεχόμενο\n",
    "\"\"\""
   ]
  },
  {
   "cell_type": "code",
   "execution_count": null,
   "metadata": {},
   "outputs": [],
   "source": [
    "def preprocess_dataset(dataset):\n",
    "    for doc in dataset:\n",
    "        doc['content'] = preprocess_text(doc['content'])\n",
    "    return dataset\n"
   ]
  }
 ],
 "metadata": {
  "language_info": {
   "name": "python"
  }
 },
 "nbformat": 4,
 "nbformat_minor": 2
}
