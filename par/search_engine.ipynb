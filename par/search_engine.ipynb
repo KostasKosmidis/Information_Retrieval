{
 "cells": [
  {
   "cell_type": "markdown",
   "metadata": {},
   "source": [
    "# Search_engine"
   ]
  },
  {
   "cell_type": "code",
   "execution_count": null,
   "metadata": {},
   "outputs": [],
   "source": [
    "from query_processing import process_query\n",
    "from ranking import calculate_tfidf, rank_documents"
   ]
  },
  {
   "cell_type": "markdown",
   "metadata": {},
   "source": [
    "\"\"\"\n",
    "    Λειτουργία Μηχανής Αναζήτησης που επεξεργάζεται το ερώτημα, υπολογίζει το TF-IDF και κατατάσσει τα έγγραφα.\n",
    "    :param query: Το ερώτημα αναζήτησης από τον χρήστη.\n",
    "    :param dataset: Το σύνολο των εγγράφων προς αναζήτηση.\n",
    "    :param inverted_index: Το αντεστραμμένο ευρετήριο για τα έγγραφα.\n",
    "    :return: Εκτυπώνει τα αποτελέσματα αναζήτησης.\n",
    "    \"\"\""
   ]
  },
  {
   "cell_type": "code",
   "execution_count": null,
   "metadata": {},
   "outputs": [],
   "source": [
    "def search_engine(query, dataset, inverted_index):\n",
    "    print(\"\\n=== Μηχανή Αναζήτησης ===\")\n",
    "    print(f\"Ερώτημα: {query}\")  # Εκτύπωση του ερωτήματος\n",
    "\n",
    "    # Επεξεργασία του ερωτήματος και εύρεση των σχετικών εγγράφων\n",
    "    relevant_docs = process_query(query, inverted_index)\n",
    "    \n",
    "    # Αν δεν βρεθούν σχετικά έγγραφα\n",
    "    if not relevant_docs:\n",
    "        print(\"Δεν βρέθηκαν αποτελέσματα.\")\n",
    "        return\n",
    "\n",
    "    # Υπολογισμός του TF-IDF για όλα τα έγγραφα\n",
    "    tfidf = calculate_tfidf(dataset, inverted_index)\n",
    "    \n",
    "    # Κατάταξη των εγγράφων με βάση τα αποτελέσματα του TF-IDF\n",
    "    ranked_docs = rank_documents(query, tfidf, dataset)\n",
    "\n",
    "    # Εκτύπωση των αποτελεσμάτων αναζήτησης\n",
    "    print(\"\\nΑποτελέσματα αναζήτησης:\")\n",
    "    for doc in ranked_docs:\n",
    "        print(f\"{doc['title']} (Βαθμολογία: {doc['score']:.4f})\")\n"
   ]
  }
 ],
 "metadata": {
  "language_info": {
   "name": "python"
  }
 },
 "nbformat": 4,
 "nbformat_minor": 2
}
