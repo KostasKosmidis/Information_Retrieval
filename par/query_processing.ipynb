{
 "cells": [
  {
   "cell_type": "markdown",
   "metadata": {},
   "source": [
    "# Query_processing"
   ]
  },
  {
   "cell_type": "code",
   "execution_count": null,
   "metadata": {},
   "outputs": [],
   "source": [
    "from text_preprocessing import preprocess_text"
   ]
  },
  {
   "cell_type": "markdown",
   "metadata": {},
   "source": [
    "\"\"\"\n",
    "\n",
    "    Επεξεργάζεται Boolean ερωτήματα και επιστρέφει τα αποτελέσματα.\n",
    "    :param terms: Λίστα όρων και τελεστών του ερωτήματος.\n",
    "    :param num_of_docs: Συνολικός αριθμός εγγράφων στη συλλογή.\n",
    "    :return: Λίστα εγγράφων που πληρούν το ερώτημα.\n",
    "    \"\"\""
   ]
  },
  {
   "cell_type": "code",
   "execution_count": null,
   "metadata": {},
   "outputs": [],
   "source": [
    "def query_processing(terms, num_of_docs):\n",
    "    results_stack = []  # Στοίβα για να αποθηκεύουμε τα αποτελέσματα\n",
    "    all_docs = set(range(num_of_docs))  # Σύνολο όλων των εγγράφων\n",
    "\n",
    "    for i, term in enumerate(terms):  # Για κάθε όρο του ερωτήματος\n",
    "        if isinstance(term, list):  # Αν ο όρος είναι λίστα (έγγραφα)\n",
    "            results_stack.append(set(term))  # Προσθέτουμε τα έγγραφα στη στοίβα\n",
    "        elif term == \"and\":  # Αν ο όρος είναι 'and'\n",
    "            if len(results_stack) >= 2:  # Αν υπάρχουν τουλάχιστον δύο όροι\n",
    "                set2 = results_stack.pop()  # Παίρνουμε το δεύτερο σύνολο\n",
    "                set1 = results_stack.pop()  # Παίρνουμε το πρώτο σύνολο\n",
    "                results_stack.append(set1 & set2)  # Επιστρέφουμε την τομή των δύο συνόλων\n",
    "            else:\n",
    "                raise ValueError(\"Λάθος σύνταξη ερωτήματος: Λείπουν όροι για 'and'.\")\n",
    "        elif term == \"or\":  # Αν ο όρος είναι 'or'\n",
    "            if len(results_stack) >= 2:  # Αν υπάρχουν τουλάχιστον δύο όροι\n",
    "                set2 = results_stack.pop()  # Παίρνουμε το δεύτερο σύνολο\n",
    "                set1 = results_stack.pop()  # Παίρνουμε το πρώτο σύνολο\n",
    "                results_stack.append(set1 | set2)  # Επιστρέφουμε την ένωση των δύο συνόλων\n",
    "            else:\n",
    "                raise ValueError(\"Λάθος σύνταξη ερωτήματος: Λείπουν όροι για 'or'.\")\n",
    "        elif term == \"not\":  # Αν ο όρος είναι 'not'\n",
    "            if results_stack:  # Αν υπάρχουν όροι στη στοίβα\n",
    "                set1 = results_stack.pop()  # Παίρνουμε το πρώτο σύνολο\n",
    "                results_stack.append(all_docs - set1)  # Επιστρέφουμε την διαφορά όλων των εγγράφων με το set1\n",
    "            else:\n",
    "                raise ValueError(\"Λάθος σύνταξη ερωτήματος: Λείπει όρος για 'not'.\")\n",
    "\n",
    "    if len(results_stack) != 1:  # Αν το αποτέλεσμα δεν είναι μοναδικό\n",
    "        raise ValueError(\"Λάθος σύνταξη ερωτήματος: Το αποτέλεσμα δεν είναι μοναδικό.\")\n",
    "    \n",
    "    return sorted(results_stack.pop())  # Επιστρέφουμε το τελικό αποτέλεσμα, ταξινομημένο"
   ]
  },
  {
   "cell_type": "markdown",
   "metadata": {},
   "source": [
    "\"\"\"\n",
    "\n",
    "    Αντικαθιστά τους όρους του ερωτήματος με τα έγγραφα που τους περιέχουν.\n",
    "    :param query: Το αρχικό ερώτημα χρήστη.\n",
    "    :param inverted_index: Το αντεστραμμένο ευρετήριο.\n",
    "    :return: Λίστα όρων, τελεστών και εγγράφων.\n",
    "    \"\"\""
   ]
  },
  {
   "cell_type": "code",
   "execution_count": null,
   "metadata": {},
   "outputs": [],
   "source": [
    "def replace_terms_with_docs(query, inverted_index):\n",
    "    terms = preprocess_text('boolean query', query).split()  # Προετοιμασία του κειμένου\n",
    "    processed_terms = []  # Λίστα για αποθήκευση των επεξεργασμένων όρων\n",
    "\n",
    "    for term in terms:  # Για κάθε όρο του ερωτήματος\n",
    "        if term in {\"and\", \"or\", \"not\", \"(\", \")\"}:  # Αν ο όρος είναι τελεστής ή παρένθεση\n",
    "            processed_terms.append(term)  # Προσθέτουμε τον τελεστή στη λίστα\n",
    "        else:\n",
    "            if term in inverted_index:  # Αν ο όρος υπάρχει στο ευρετήριο\n",
    "                processed_terms.append(inverted_index[term])  # Αντικαθιστούμε τον όρο με τα έγγραφα του\n",
    "            else:\n",
    "                raise ValueError(f\"Ο όρος '{term}' δεν βρέθηκε στο ευρετήριο.\")  # Σφάλμα αν δεν βρεθεί ο όρος\n",
    "    \n",
    "    return processed_terms  # Επιστρέφουμε τη λίστα με τους επεξεργασμένους όρους"
   ]
  }
 ],
 "metadata": {
  "language_info": {
   "name": "python"
  }
 },
 "nbformat": 4,
 "nbformat_minor": 2
}
