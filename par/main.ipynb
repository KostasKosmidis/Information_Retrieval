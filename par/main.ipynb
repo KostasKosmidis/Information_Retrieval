{
 "cells": [
  {
   "cell_type": "markdown",
   "metadata": {},
   "source": [
    "# Main"
   ]
  },
  {
   "cell_type": "code",
   "execution_count": null,
   "metadata": {},
   "outputs": [],
   "source": [
    "import nltk\n",
    "nltk.download('punkt')\n",
    "nltk.download('stopwords')\n",
    "from nltk.stem import SnowballStemmer\n",
    "stemmer = SnowballStemmer(\"english\")\n",
    "\n",
    "from web_crawler import crawl_articles\n",
    "from text_preprocessing import preprocess_dataset\n",
    "from inverted_index import create_inverted_index\n",
    "from ranking import calculate_tfidf, rank_documents, calculate_vsm, rank_vsm, calculate_bm25, rank_bm25\n",
    "from evaluation import evaluate_retrieval, calculate_map"
   ]
  },
  {
   "cell_type": "markdown",
   "metadata": {},
   "source": [
    "\"\"\"\n",
    "\n",
    "    Κύρια συνάρτηση για τη συλλογή, προεπεξεργασία, αναζήτηση και αξιολόγηση άρθρων.\n",
    "    \"\"\""
   ]
  },
  {
   "cell_type": "code",
   "execution_count": null,
   "metadata": {},
   "outputs": [],
   "source": [
    "def main():\n",
    "    dataset = crawl_articles()\n",
    "    dataset = preprocess_dataset(dataset)\n",
    "    inverted_index = create_inverted_index(dataset)\n",
    "\n",
    "    while True:\n",
    "        print(\"\\nΕισάγετε τη λέξη κλειδί σας ή γράψτε 'exit' για τερματισμό:\")\n",
    "        query = input(\"Κλειδί: \").lower()\n",
    "\n",
    "        if query == 'exit':\n",
    "            print(\"Τερματισμός προγράμματος.\")\n",
    "            break\n",
    "\n",
    "        print(\"\\nΕπιλέξτε αλγόριθμο:\")\n",
    "        print(\"1. TF-IDF\")\n",
    "        print(\"2. Vector Space Model (VSM)\")\n",
    "        print(\"3. Okapi BM25\")\n",
    "        print(\"Γράψτε 'exit' για τερματισμό.\")\n",
    "        algorithm_choice = input(\"Επιλογή (1, 2, 3): \").strip()\n",
    "\n",
    "        if algorithm_choice.lower() == 'exit':\n",
    "            print(\"Τερματισμός προγράμματος.\")\n",
    "            break\n",
    "\n",
    "        relevant_docs = [[0, 2]]  # Μόνο ένα ερώτημα\n",
    "        retrieved_docs = []  # Λίστα για αποθήκευση των επιστρεφόμενων εγγράφων\n",
    "\n",
    "        if algorithm_choice == \"1\":\n",
    "            print(\"\\nΧρησιμοποιώντας αλγόριθμο TF-IDF...\")\n",
    "            tfidf = calculate_tfidf(dataset, inverted_index)\n",
    "            ranked_docs = rank_documents(query, tfidf, dataset)\n",
    "        elif algorithm_choice == \"2\":\n",
    "            print(\"\\nΧρησιμοποιώντας Vector Space Model (VSM)...\")\n",
    "            tfidf = calculate_tfidf(dataset, inverted_index)\n",
    "            doc_vectors = calculate_vsm(dataset, inverted_index, tfidf)\n",
    "            ranked_docs = rank_vsm(query, doc_vectors, tfidf)\n",
    "        elif algorithm_choice == \"3\":\n",
    "            print(\"\\nΧρησιμοποιώντας Okapi BM25...\")\n",
    "            bm25_scores = calculate_bm25(dataset, inverted_index)\n",
    "            ranked_docs = rank_bm25(query, bm25_scores)\n",
    "        else:\n",
    "            print(\"Μη έγκυρη επιλογή αλγορίθμου. Δοκιμάστε ξανά.\")\n",
    "            continue\n",
    "\n",
    "        print(\"\\nΑποτελέσματα αναζήτησης:\")\n",
    "        if not ranked_docs:\n",
    "            print(\"Δεν βρέθηκαν αποτελέσματα.\")\n",
    "        for doc in ranked_docs:\n",
    "            try:\n",
    "                doc_id = int(doc.get('doc_id'))\n",
    "                title = dataset[doc_id].get('title', 'Άγνωστος τίτλος')\n",
    "                retrieved_docs.append(doc_id)\n",
    "                print(f\"{title} (Βαθμολογία: {doc['score']:.4f})\")\n",
    "            except (ValueError, KeyError) as e:\n",
    "                print(f\"Σφάλμα με το doc_id: {doc.get('doc_id')} - {e}\")\n",
    "\n",
    "        # Εισαγωγή στο σύστημα αξιολόγησης\n",
    "        evaluation_metrics = evaluate_retrieval(relevant_docs[0], retrieved_docs)\n",
    "        print(\"\\nΑξιολόγηση Αποτελεσμάτων:\")\n",
    "        print(f\"Precision: {evaluation_metrics['precision']:.4f}\")\n",
    "        print(f\"Recall: {evaluation_metrics['recall']:.4f}\")\n",
    "        print(f\"F1 Score: {evaluation_metrics['f1_score']:.4f}\")\n",
    "\n",
    "        # Υπολογισμός MAP\n",
    "        map_score = calculate_map(relevant_docs, [retrieved_docs])\n",
    "        print(f\"\\nMean Average Precision (MAP): {map_score:.4f}\")\n",
    "\n",
    "if __name__ == \"__main__\":\n",
    "    main()\n"
   ]
  }
 ],
 "metadata": {
  "language_info": {
   "name": "python"
  }
 },
 "nbformat": 4,
 "nbformat_minor": 2
}
